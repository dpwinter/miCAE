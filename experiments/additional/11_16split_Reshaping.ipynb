{
 "cells": [
  {
   "cell_type": "markdown",
   "metadata": {},
   "source": [
    "# Illustrate the effect of Reshaping\n",
    "* Naive reshaping: Apply reshaping directly to (28,28) input data\n",
    "* Reshaping after splitting: Apply split function on (28,28) input data first to get the correct pixel order."
   ]
  },
  {
   "cell_type": "code",
   "execution_count": 1,
   "metadata": {},
   "outputs": [],
   "source": [
    "import matplotlib.pyplot as plt\n",
    "import numpy as np\n",
    "import tensorflow as tf\n",
    "import keras\n",
    "import keras.backend as K"
   ]
  },
  {
   "cell_type": "code",
   "execution_count": 2,
   "metadata": {},
   "outputs": [],
   "source": [
    "nrows, ncols = 28, 28\n",
    "nnrows, nncols = 14, 14"
   ]
  },
  {
   "cell_type": "markdown",
   "metadata": {},
   "source": [
    "### 1. Generate data"
   ]
  },
  {
   "cell_type": "code",
   "execution_count": 3,
   "metadata": {},
   "outputs": [],
   "source": [
    "(_, _), (X, _) = keras.datasets.mnist.load_data()\n",
    "X = tf.reshape(X, (-1,nrows,ncols,1))\n",
    "X = tf.cast(X, 'float32') / 255."
   ]
  },
  {
   "cell_type": "markdown",
   "metadata": {},
   "source": [
    "### 2. Reshaper model"
   ]
  },
  {
   "cell_type": "code",
   "execution_count": 4,
   "metadata": {},
   "outputs": [],
   "source": [
    "class Reshaper(keras.models.Model):\n",
    "    # Reshape arbitrary input to output along sampling dimension\n",
    "    def __init__(self, input_shape, output_shape):\n",
    "        model_in  = keras.layers.Input(shape=input_shape)\n",
    "        model_out = K.concatenate( (K.variable([-1], dtype='int32'), output_shape) ) # -1 (arbitrary samples)\n",
    "        shaper = keras.layers.Lambda( lambda x: K.reshape(x, model_out) )(model_in)\n",
    "        super(Reshaper, self).__init__(inputs=model_in, outputs=shaper)"
   ]
  },
  {
   "cell_type": "markdown",
   "metadata": {},
   "source": [
    "### 3. Naive reshaping\n",
    "* Reshaper model is equivalent to tensorflow reshaper if sum of input dimensions=sum of output dimensions.\n",
    "* Naive reshaping scrambles up generated patches. $\\rightarrow$ Not desired."
   ]
  },
  {
   "cell_type": "code",
   "execution_count": 11,
   "metadata": {},
   "outputs": [
    {
     "name": "stdout",
     "output_type": "stream",
     "text": [
      "TF reshape:  (1, 28, 28, 1) -> (4, 14, 14, 1)\n",
      "Model reshaper:  (1, 28, 28, 1) -> (4, 14, 14, 1)\n"
     ]
    },
    {
     "data": {
      "image/png": "[encoded data removed]",
      "text/plain": [
       "<Figure size 432x288 with 1 Axes>"
      ]
     },
     "metadata": {
      "needs_background": "light"
     },
     "output_type": "display_data"
    },
    {
     "data": {
      "image/png": "[encoded data removed]",
      "text/plain": [
       "<Figure size 432x288 with 4 Axes>"
      ]
     },
     "metadata": {
      "needs_background": "light"
     },
     "output_type": "display_data"
    },
    {
     "data": {
      "image/png": "[encoded data removed]",
      "text/plain": [
       "<Figure size 432x288 with 4 Axes>"
      ]
     },
     "metadata": {
      "needs_background": "light"
     },
     "output_type": "display_data"
    }
   ],
   "source": [
    "x = X[:1]\n",
    "fig, ax = plt.subplots()\n",
    "plt.imshow(tf.reshape(x, (nrows,ncols)))\n",
    "plt.title(\"Original input\")\n",
    "\n",
    "x_reshaped_tf = tf.reshape(x, (4,14,14,1)) # Tensorflow reshape\n",
    "print(\"TF reshape: \", x.shape, \"->\", x_reshaped_tf.shape)\n",
    "fig, axs = plt.subplots(1,4)\n",
    "for i, ax in enumerate(axs):\n",
    "    ax.imshow(tf.reshape(x_reshaped_tf[i], (14,14)))\n",
    "    ax.set_title(\"TF reshape\")\n",
    "\n",
    "reshaper = Reshaper([nrows,ncols,1], [nnrows,nncols,1]) # Reshaper model\n",
    "x_reshaped_model = reshaper(x)\n",
    "print(\"Model reshaper: \", x.shape, \"->\", x_reshaped_model.shape)\n",
    "\n",
    "fig, axs = plt.subplots(1,4)\n",
    "for i, ax in enumerate(axs):\n",
    "    ax.imshow(tf.reshape(x_reshaped_model[i], (14,14)))\n",
    "    ax.set_title(\"Model resh.\")"
   ]
  },
  {
   "cell_type": "markdown",
   "metadata": {},
   "source": [
    "### 4. Reshaping after **splitting**\n",
    "* The `split` method correctly takes care of pixel order.\n",
    "* The generated patches correspond to the four quadrants of the input image."
   ]
  },
  {
   "cell_type": "code",
   "execution_count": 7,
   "metadata": {},
   "outputs": [
    {
     "name": "stdout",
     "output_type": "stream",
     "text": [
      "(1, 28, 28, 1) -> (4, 14, 14, 1)\n"
     ]
    },
    {
     "data": {
      "image/png": "[encoded data removed]",
      "text/plain": [
       "<Figure size 432x288 with 1 Axes>"
      ]
     },
     "metadata": {
      "needs_background": "light"
     },
     "output_type": "display_data"
    },
    {
     "data": {
      "image/png": "[encoded data removed]",
      "text/plain": [
       "<Figure size 432x288 with 4 Axes>"
      ]
     },
     "metadata": {
      "needs_background": "light"
     },
     "output_type": "display_data"
    }
   ],
   "source": [
    "def split(x, nrows=nrows, nsidelen=nnrows):\n",
    "    x = x.reshape(nrows//nsidelen,nsidelen,-1,nsidelen)\n",
    "    x = x.swapaxes(1,2)\n",
    "    return x.reshape(-1,nsidelen,nsidelen,1)\n",
    "\n",
    "x_split = np.array([split(x) for x in X.numpy()])\n",
    "x_reshaped = x_split[:1].reshape(4,14,14,1)\n",
    "print(x.shape, \"->\", x_reshaped.shape)\n",
    "\n",
    "fig, ax = plt.subplots()\n",
    "plt.imshow(tf.reshape(x, (nrows,ncols)))\n",
    "\n",
    "fig, axs = plt.subplots(1,4)\n",
    "for i, ax in enumerate(axs):\n",
    "    ax.imshow(tf.reshape(x_reshaped[i], (14,14)))"
   ]
  }
 ],
 "metadata": {
  "kernelspec": {
   "display_name": "Python 3",
   "language": "python",
   "name": "python3"
  },
  "language_info": {
   "codemirror_mode": {
    "name": "ipython",
    "version": 3
   },
   "file_extension": ".py",
   "mimetype": "text/x-python",
   "name": "python",
   "nbconvert_exporter": "python",
   "pygments_lexer": "ipython3",
   "version": "3.8.8"
  }
 },
 "nbformat": 4,
 "nbformat_minor": 4
}
