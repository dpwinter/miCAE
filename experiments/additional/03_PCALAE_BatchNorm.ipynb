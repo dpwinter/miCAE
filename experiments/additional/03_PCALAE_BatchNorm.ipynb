{
 "cells": [
  {
   "cell_type": "markdown",
   "metadata": {},
   "source": [
    "# Exploring BatchNormalization\n",
    "* BN approximates distribution of standardized input data"
   ]
  },
  {
   "cell_type": "code",
   "execution_count": 1,
   "metadata": {},
   "outputs": [],
   "source": [
    "import tensorflow as tf\n",
    "import numpy as np; np.random.seed(678)\n",
    "import matplotlib.pyplot as plt"
   ]
  },
  {
   "cell_type": "code",
   "execution_count": 2,
   "metadata": {},
   "outputs": [
    {
     "name": "stdout",
     "output_type": "stream",
     "text": [
      "Min/Max:  -12.475122935407486 267.6997964539736\n",
      "Mean/Var:  138.37437457200357 5960.611295493191\n"
     ]
    },
    {
     "data": {
      "image/png": "[encoded data removed]",
      "text/plain": [
       "<Figure size 432x288 with 1 Axes>"
      ]
     },
     "metadata": {
      "needs_background": "light"
     },
     "output_type": "display_data"
    }
   ],
   "source": [
    "X = np.zeros((30, 28, 28, 1)) # 30 samples\n",
    "for i in range(30):\n",
    "    x = np.random.randn(28,28) * np.random.randint(10) + np.random.randint(255)\n",
    "    x = np.expand_dims(x, axis=2)\n",
    "    X[i, :, :, :] = x\n",
    "\n",
    "# plt.imshow(np.squeeze(np.squeeze(X[0,:,:,:])), cmap='gray') # squeeze removes all axis of size 1\n",
    "print(\"Min/Max: \", X.min(), X.max())\n",
    "print(\"Mean/Var: \", X.mean(), X.var())\n",
    "plt.hist(X.flatten(), bins='auto');"
   ]
  },
  {
   "cell_type": "markdown",
   "metadata": {},
   "source": [
    "# 1. (MinMax) Normalize"
   ]
  },
  {
   "cell_type": "code",
   "execution_count": 4,
   "metadata": {},
   "outputs": [
    {
     "name": "stdout",
     "output_type": "stream",
     "text": [
      "Min/Max:  0.0 1.0\n",
      "Mean/Var:  0.5461003386542052 0.09407724005280259\n"
     ]
    },
    {
     "data": {
      "image/png": "[encoded data removed]",
      "text/plain": [
       "<Figure size 432x288 with 1 Axes>"
      ]
     },
     "metadata": {
      "needs_background": "light"
     },
     "output_type": "display_data"
    }
   ],
   "source": [
    "X_norm = (X - X.min(axis=0)) / (X.max(axis=0) - X.min(axis=0))\n",
    "print(\"Min/Max: \", X_norm.min(), X_norm.max())\n",
    "print(\"Mean/Var: \", X_norm.mean(), X_norm.var())\n",
    "plt.hist(X_norm.flatten(), bins='auto');"
   ]
  },
  {
   "cell_type": "markdown",
   "metadata": {},
   "source": [
    "# 2. Standardize"
   ]
  },
  {
   "cell_type": "code",
   "execution_count": 5,
   "metadata": {},
   "outputs": [
    {
     "name": "stdout",
     "output_type": "stream",
     "text": [
      "Min/Max:  -1.958780659766158 1.6432882499947472\n",
      "Mean/Var:  0.0 1.0\n"
     ]
    },
    {
     "data": {
      "image/png": "[encoded data removed]",
      "text/plain": [
       "<Figure size 432x288 with 1 Axes>"
      ]
     },
     "metadata": {
      "needs_background": "light"
     },
     "output_type": "display_data"
    }
   ],
   "source": [
    "X_std = (X - X.mean(axis=0)) / X.std(axis=0)\n",
    "print(\"Min/Max: \", X_std.min(), X_std.max())\n",
    "print(\"Mean/Var: \", X_std.mean(), X_std.var())\n",
    "plt.hist(X_std.flatten(), bins='auto');"
   ]
  },
  {
   "cell_type": "markdown",
   "metadata": {},
   "source": [
    "# 3. Batch Normalize"
   ]
  },
  {
   "cell_type": "code",
   "execution_count": 5,
   "metadata": {},
   "outputs": [
    {
     "name": "stdout",
     "output_type": "stream",
     "text": [
      "Min/Max:  -1.4826635156149148 1.6726636542239683\n",
      "Mean/Var:  0.20448803778953595 0.7642652206248977\n"
     ]
    },
    {
     "data": {
      "image/png": "[encoded data removed]",
      "text/plain": [
       "<Figure size 432x288 with 1 Axes>"
      ]
     },
     "metadata": {
      "needs_background": "light"
     },
     "output_type": "display_data"
    }
   ],
   "source": [
    "X_batch = X[:10, :, :, :] # mini batch\n",
    "\n",
    "# moving mean = array of mini-batch averages of whole dataset.\n",
    "# After epoch, data is shuffled, moving mean calculated anew? -> Yes, they are updated.\n",
    "X_batch_mean = X_batch.sum(axis=0) / X_batch.shape[0] # moving mean\n",
    "X_batch_var = ((X_batch - X_batch_mean)**2).sum(axis=0) / X_batch.shape[0] # moving var\n",
    "\n",
    "X_bn = (X - X_batch_mean) / np.sqrt(X_batch_var + 1e-8) # 1e-8: small no. avoid div by 0\n",
    "\n",
    "print(\"Min/Max: \", X_bn.min(), X_bn.max())\n",
    "print(\"Mean/Var: \", X_bn.mean(), X_bn.var())\n",
    "plt.hist(X_bn.flatten(), bins='auto');"
   ]
  },
  {
   "cell_type": "markdown",
   "metadata": {},
   "source": [
    "# 3.1 Batch Norm with TF\n",
    "* This should be equivalent to BatchNorm by hand.\n",
    "* Why is it different?"
   ]
  },
  {
   "cell_type": "code",
   "execution_count": 4,
   "metadata": {},
   "outputs": [
    {
     "name": "stdout",
     "output_type": "stream",
     "text": [
      "Min/Max:  -1.482663515614915 1.5780922719364125\n",
      "Mean/Var:  2.9001744316738786e-17 0.9999999999987176\n"
     ]
    },
    {
     "data": {
      "image/png": "[encoded data removed]",
      "text/plain": [
       "<Figure size 432x288 with 1 Axes>"
      ]
     },
     "metadata": {
      "needs_background": "light"
     },
     "output_type": "display_data"
    }
   ],
   "source": [
    "X_batch = X[:10, :, :, :] # mini batch\n",
    "\n",
    "X_bn = tf.nn.batch_normalization(X_batch,\n",
    "                             mean=X_batch.mean(axis=0),\n",
    "                             variance=X_batch.var(axis=0),\n",
    "                             offset=0.0, scale=1.0,\n",
    "                             variance_epsilon=1e-8).numpy()\n",
    "\n",
    "print(\"Min/Max: \", X_bn.min(), X_bn.max())\n",
    "print(\"Mean/Var: \", X_bn.mean(), X_bn.var())\n",
    "plt.hist(X_bn.flatten(), bins='auto');"
   ]
  }
 ],
 "metadata": {
  "kernelspec": {
   "display_name": "Python 3",
   "language": "python",
   "name": "python3"
  },
  "language_info": {
   "codemirror_mode": {
    "name": "ipython",
    "version": 3
   },
   "file_extension": ".py",
   "mimetype": "text/x-python",
   "name": "python",
   "nbconvert_exporter": "python",
   "pygments_lexer": "ipython3",
   "version": "3.8.8"
  }
 },
 "nbformat": 4,
 "nbformat_minor": 4
}
