{
 "cells": [
  {
   "cell_type": "markdown",
   "metadata": {},
   "source": [
    "# Effect and usage of activity_regularizer"
   ]
  },
  {
   "cell_type": "code",
   "execution_count": 22,
   "metadata": {},
   "outputs": [
    {
     "name": "stdout",
     "output_type": "stream",
     "text": [
      "Input: \n",
      " [[ 1.  2.  3.  4.  5.]\n",
      " [ 6.  7.  8.  9. 10.]]\n",
      "Output: \n",
      " tf.Tensor(\n",
      "[[15. 15. 15. 15. 15.]\n",
      " [40. 40. 40. 40. 40.]], shape=(2, 5), dtype=float32)\n",
      "Layer losses:\n",
      " 45.625\n"
     ]
    }
   ],
   "source": [
    "import tensorflow as tf\n",
    "\n",
    "layer = tf.keras.layers.Dense(5, kernel_initializer='ones',\n",
    "                              activity_regularizer=tf.keras.regularizers.l2())\n",
    "\n",
    "tensor = tf.ones(shape=(2, 5)).numpy() * 2.0\n",
    "tensor[0, :] = [1,2,3,4,5]\n",
    "tensor[1, :] = [6,7,8,9,10]\n",
    "\n",
    "print(\"Input: \\n\", tensor)\n",
    "out = layer(tensor)\n",
    "print(\"Output: \\n\", out)\n",
    "\n",
    "# The kernel regularization term is 0.25\n",
    "# The activity regularization term (after dividing by the batch size) is 5\n",
    "print(\"Layer losses:\\n\", tf.math.reduce_sum(layer.losses).numpy())  # 5.25 (= 5 + 0.25)"
   ]
  },
  {
   "cell_type": "markdown",
   "metadata": {},
   "source": [
    "### Regularizer is called with (nbatchsamples, latentdims) "
   ]
  },
  {
   "cell_type": "code",
   "execution_count": 51,
   "metadata": {},
   "outputs": [
    {
     "name": "stdout",
     "output_type": "stream",
     "text": [
      "Input: \n",
      " [[1. 2.]\n",
      " [3. 4.]]\n",
      "Output: \n",
      " tf.Tensor(\n",
      "[[3. 3.]\n",
      " [7. 7.]], shape=(2, 2), dtype=float32)\n",
      "Layer losses:\n",
      " 110.25\n"
     ]
    }
   ],
   "source": [
    "import keras.backend as K\n",
    "\n",
    "class CustomReg(tf.keras.regularizers.Regularizer):\n",
    "    def __call__(self, a):\n",
    "        acc = K.sum(K.square(a[-1, :] * a[:-1, :]))\n",
    "        return acc / (a.shape[-1]**2)\n",
    "\n",
    "layer = tf.keras.layers.Dense(2, kernel_initializer='ones',\n",
    "                              activity_regularizer=CustomReg())\n",
    "\n",
    "tensor = tf.ones(shape=(2, 2)).numpy() * 2.0\n",
    "tensor[0, :] = [1,2]\n",
    "tensor[1, :] = [3,4]\n",
    "# tensor[2, :] = [5,6]\n",
    "\n",
    "\n",
    "print(\"Input: \\n\", tensor)\n",
    "out = layer(tensor)\n",
    "print(\"Output: \\n\", out)\n",
    "\n",
    "print(\"Layer losses:\\n\", tf.math.reduce_sum(layer.losses).numpy())"
   ]
  }
 ],
 "metadata": {
  "kernelspec": {
   "display_name": "Python 3",
   "language": "python",
   "name": "python3"
  },
  "language_info": {
   "codemirror_mode": {
    "name": "ipython",
    "version": 3
   },
   "file_extension": ".py",
   "mimetype": "text/x-python",
   "name": "python",
   "nbconvert_exporter": "python",
   "pygments_lexer": "ipython3",
   "version": "3.8.8"
  }
 },
 "nbformat": 4,
 "nbformat_minor": 4
}
